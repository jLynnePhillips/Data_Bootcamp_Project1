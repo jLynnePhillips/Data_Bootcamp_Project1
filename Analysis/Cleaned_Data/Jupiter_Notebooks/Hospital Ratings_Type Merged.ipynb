{
 "cells": [
  {
   "cell_type": "code",
   "execution_count": 1,
   "metadata": {
    "collapsed": true
   },
   "outputs": [],
   "source": [
    "import pandas as pd\n",
    "import csv"
   ]
  },
  {
   "cell_type": "code",
   "execution_count": 17,
   "metadata": {},
   "outputs": [],
   "source": [
    "ratings = pd.read_csv(\"../Hospital Rating.csv\")"
   ]
  },
  {
   "cell_type": "code",
   "execution_count": 18,
   "metadata": {},
   "outputs": [
    {
     "data": {
      "text/plain": [
       "Index(['Provider ID', 'Cleanliness', 'Nurse_com', 'Doc_com',\n",
       "       'Staff_responsiveness', 'Pain_management', 'Comm_medicine',\n",
       "       'Discharge_info', 'Care_transition', 'Overall_Hos_Rating', 'Quietness',\n",
       "       'Recomm_hos', 'Summary_star'],\n",
       "      dtype='object')"
      ]
     },
     "execution_count": 18,
     "metadata": {},
     "output_type": "execute_result"
    }
   ],
   "source": [
    "ratings.columns"
   ]
  },
  {
   "cell_type": "code",
   "execution_count": 19,
   "metadata": {
    "collapsed": true
   },
   "outputs": [],
   "source": [
    "hospitals = pd.read_csv(\"../Hospital Type Ownership info.csv\")"
   ]
  },
  {
   "cell_type": "code",
   "execution_count": 20,
   "metadata": {
    "collapsed": true
   },
   "outputs": [],
   "source": [
    "hospitals = hospitals.drop('Unnamed: 0', axis = 1)"
   ]
  },
  {
   "cell_type": "code",
   "execution_count": 21,
   "metadata": {},
   "outputs": [
    {
     "data": {
      "text/html": [
       "<div>\n",
       "<style>\n",
       "    .dataframe thead tr:only-child th {\n",
       "        text-align: right;\n",
       "    }\n",
       "\n",
       "    .dataframe thead th {\n",
       "        text-align: left;\n",
       "    }\n",
       "\n",
       "    .dataframe tbody tr th {\n",
       "        vertical-align: top;\n",
       "    }\n",
       "</style>\n",
       "<table border=\"1\" class=\"dataframe\">\n",
       "  <thead>\n",
       "    <tr style=\"text-align: right;\">\n",
       "      <th></th>\n",
       "      <th>Provider ID</th>\n",
       "      <th>Hospital Name</th>\n",
       "      <th>Address</th>\n",
       "      <th>City</th>\n",
       "      <th>State</th>\n",
       "      <th>ZIP Code</th>\n",
       "      <th>County Name</th>\n",
       "      <th>Phone Number</th>\n",
       "      <th>Hospital Type</th>\n",
       "      <th>Hospital Ownership</th>\n",
       "    </tr>\n",
       "  </thead>\n",
       "  <tbody>\n",
       "    <tr>\n",
       "      <th>0</th>\n",
       "      <td>50002</td>\n",
       "      <td>ST ROSE HOSPITAL</td>\n",
       "      <td>27200 CALAROGA AVE</td>\n",
       "      <td>HAYWARD</td>\n",
       "      <td>CA</td>\n",
       "      <td>94545</td>\n",
       "      <td>ALAMEDA</td>\n",
       "      <td>5107826200</td>\n",
       "      <td>Acute Care Hospitals</td>\n",
       "      <td>Voluntary non-profit - Church</td>\n",
       "    </tr>\n",
       "    <tr>\n",
       "      <th>1</th>\n",
       "      <td>50006</td>\n",
       "      <td>ST JOSEPH HOSPITAL</td>\n",
       "      <td>2700 DOLBEER ST</td>\n",
       "      <td>EUREKA</td>\n",
       "      <td>CA</td>\n",
       "      <td>95501</td>\n",
       "      <td>HUMBOLDT</td>\n",
       "      <td>7074458121</td>\n",
       "      <td>Acute Care Hospitals</td>\n",
       "      <td>Voluntary non-profit - Private</td>\n",
       "    </tr>\n",
       "    <tr>\n",
       "      <th>2</th>\n",
       "      <td>50007</td>\n",
       "      <td>MILLS-PENINSULA MEDICAL CENTER</td>\n",
       "      <td>1501 TROUSDALE DRIVE</td>\n",
       "      <td>BURLINGAME</td>\n",
       "      <td>CA</td>\n",
       "      <td>94010</td>\n",
       "      <td>SAN MATEO</td>\n",
       "      <td>6506965270</td>\n",
       "      <td>Acute Care Hospitals</td>\n",
       "      <td>Voluntary non-profit - Private</td>\n",
       "    </tr>\n",
       "    <tr>\n",
       "      <th>3</th>\n",
       "      <td>50008</td>\n",
       "      <td>CALIFORNIA PACIFIC MEDICAL CTR-DAVIES CAMPUS HOSP</td>\n",
       "      <td>601 DUBOCE AVE</td>\n",
       "      <td>SAN FRANCISCO</td>\n",
       "      <td>CA</td>\n",
       "      <td>94117</td>\n",
       "      <td>SAN FRANCISCO</td>\n",
       "      <td>4156006000</td>\n",
       "      <td>Acute Care Hospitals</td>\n",
       "      <td>Voluntary non-profit - Other</td>\n",
       "    </tr>\n",
       "    <tr>\n",
       "      <th>4</th>\n",
       "      <td>50009</td>\n",
       "      <td>QUEEN OF THE VALLEY MEDICAL CENTER</td>\n",
       "      <td>1000 TRANCAS ST</td>\n",
       "      <td>NAPA</td>\n",
       "      <td>CA</td>\n",
       "      <td>94558</td>\n",
       "      <td>NAPA</td>\n",
       "      <td>7072524411</td>\n",
       "      <td>Acute Care Hospitals</td>\n",
       "      <td>Voluntary non-profit - Church</td>\n",
       "    </tr>\n",
       "  </tbody>\n",
       "</table>\n",
       "</div>"
      ],
      "text/plain": [
       "   Provider ID                                      Hospital Name  \\\n",
       "0        50002                                   ST ROSE HOSPITAL   \n",
       "1        50006                                 ST JOSEPH HOSPITAL   \n",
       "2        50007                     MILLS-PENINSULA MEDICAL CENTER   \n",
       "3        50008  CALIFORNIA PACIFIC MEDICAL CTR-DAVIES CAMPUS HOSP   \n",
       "4        50009                 QUEEN OF THE VALLEY MEDICAL CENTER   \n",
       "\n",
       "                Address           City State  ZIP Code    County Name  \\\n",
       "0    27200 CALAROGA AVE        HAYWARD    CA     94545        ALAMEDA   \n",
       "1       2700 DOLBEER ST         EUREKA    CA     95501       HUMBOLDT   \n",
       "2  1501 TROUSDALE DRIVE     BURLINGAME    CA     94010      SAN MATEO   \n",
       "3        601 DUBOCE AVE  SAN FRANCISCO    CA     94117  SAN FRANCISCO   \n",
       "4       1000 TRANCAS ST           NAPA    CA     94558           NAPA   \n",
       "\n",
       "   Phone Number         Hospital Type              Hospital Ownership  \n",
       "0    5107826200  Acute Care Hospitals   Voluntary non-profit - Church  \n",
       "1    7074458121  Acute Care Hospitals  Voluntary non-profit - Private  \n",
       "2    6506965270  Acute Care Hospitals  Voluntary non-profit - Private  \n",
       "3    4156006000  Acute Care Hospitals    Voluntary non-profit - Other  \n",
       "4    7072524411  Acute Care Hospitals   Voluntary non-profit - Church  "
      ]
     },
     "execution_count": 21,
     "metadata": {},
     "output_type": "execute_result"
    }
   ],
   "source": [
    "hospitals.head()"
   ]
  },
  {
   "cell_type": "code",
   "execution_count": 22,
   "metadata": {},
   "outputs": [
    {
     "data": {
      "text/plain": [
       "Index(['Provider ID', 'Hospital Name', 'Address', 'City', 'State', 'ZIP Code',\n",
       "       'County Name', 'Phone Number', 'Hospital Type', 'Hospital Ownership'],\n",
       "      dtype='object')"
      ]
     },
     "execution_count": 22,
     "metadata": {},
     "output_type": "execute_result"
    }
   ],
   "source": [
    "hospitals.columns"
   ]
  },
  {
   "cell_type": "code",
   "execution_count": 23,
   "metadata": {},
   "outputs": [
    {
     "data": {
      "text/plain": [
       "Index(['Provider ID', 'Cleanliness', 'Nurse_com', 'Doc_com',\n",
       "       'Staff_responsiveness', 'Pain_management', 'Comm_medicine',\n",
       "       'Discharge_info', 'Care_transition', 'Overall_Hos_Rating', 'Quietness',\n",
       "       'Recomm_hos', 'Summary_star'],\n",
       "      dtype='object')"
      ]
     },
     "execution_count": 23,
     "metadata": {},
     "output_type": "execute_result"
    }
   ],
   "source": [
    "ratings.columns"
   ]
  },
  {
   "cell_type": "markdown",
   "metadata": {},
   "source": [
    "### Merge data sets Cleaned up Hospital General Information and HCAPS"
   ]
  },
  {
   "cell_type": "markdown",
   "metadata": {},
   "source": [
    "* Left join on data frames \"ratings\" and \"hospitals\"\n",
    "* ratings = contains hospital ratings data\n",
    "* hospitals - contains hospital type and ownership \n",
    "* common columns = 'Provider ID', 'Hospital Name','Address','City','State', 'County Name'\n"
   ]
  },
  {
   "cell_type": "code",
   "execution_count": 24,
   "metadata": {
    "collapsed": true
   },
   "outputs": [],
   "source": [
    "hospital_ratings_merged = pd.merge(ratings, hospitals, how='left', left_on=None, right_on=None,\n",
    "                                   on='Provider ID', left_index=True, copy=True)"
   ]
  },
  {
   "cell_type": "code",
   "execution_count": 25,
   "metadata": {},
   "outputs": [
    {
     "data": {
      "text/plain": [
       "294"
      ]
     },
     "execution_count": 25,
     "metadata": {},
     "output_type": "execute_result"
    }
   ],
   "source": [
    "len(hospital_ratings_merged)"
   ]
  },
  {
   "cell_type": "code",
   "execution_count": 26,
   "metadata": {},
   "outputs": [
    {
     "data": {
      "text/plain": [
       "294"
      ]
     },
     "execution_count": 26,
     "metadata": {},
     "output_type": "execute_result"
    }
   ],
   "source": [
    "len(ratings)"
   ]
  },
  {
   "cell_type": "code",
   "execution_count": 27,
   "metadata": {
    "collapsed": true
   },
   "outputs": [],
   "source": [
    "hospital_ratings_merged.to_csv(\"../Hospital Ratings Merged.csv\", index = False)"
   ]
  },
  {
   "cell_type": "code",
   "execution_count": 28,
   "metadata": {},
   "outputs": [
    {
     "data": {
      "text/html": [
       "<div>\n",
       "<style>\n",
       "    .dataframe thead tr:only-child th {\n",
       "        text-align: right;\n",
       "    }\n",
       "\n",
       "    .dataframe thead th {\n",
       "        text-align: left;\n",
       "    }\n",
       "\n",
       "    .dataframe tbody tr th {\n",
       "        vertical-align: top;\n",
       "    }\n",
       "</style>\n",
       "<table border=\"1\" class=\"dataframe\">\n",
       "  <thead>\n",
       "    <tr style=\"text-align: right;\">\n",
       "      <th></th>\n",
       "      <th>Provider ID</th>\n",
       "      <th>Cleanliness</th>\n",
       "      <th>Nurse_com</th>\n",
       "      <th>Doc_com</th>\n",
       "      <th>Staff_responsiveness</th>\n",
       "      <th>Pain_management</th>\n",
       "      <th>Comm_medicine</th>\n",
       "      <th>Discharge_info</th>\n",
       "      <th>Care_transition</th>\n",
       "      <th>Overall_Hos_Rating</th>\n",
       "      <th>...</th>\n",
       "      <th>Summary_star</th>\n",
       "      <th>Hospital Name</th>\n",
       "      <th>Address</th>\n",
       "      <th>City</th>\n",
       "      <th>State</th>\n",
       "      <th>ZIP Code</th>\n",
       "      <th>County Name</th>\n",
       "      <th>Phone Number</th>\n",
       "      <th>Hospital Type</th>\n",
       "      <th>Hospital Ownership</th>\n",
       "    </tr>\n",
       "  </thead>\n",
       "  <tbody>\n",
       "    <tr>\n",
       "      <th>0</th>\n",
       "      <td>50002</td>\n",
       "      <td>2</td>\n",
       "      <td>2</td>\n",
       "      <td>2</td>\n",
       "      <td>2</td>\n",
       "      <td>2</td>\n",
       "      <td>2</td>\n",
       "      <td>2</td>\n",
       "      <td>1</td>\n",
       "      <td>2</td>\n",
       "      <td>...</td>\n",
       "      <td>2</td>\n",
       "      <td>ST ROSE HOSPITAL</td>\n",
       "      <td>27200 CALAROGA AVE</td>\n",
       "      <td>HAYWARD</td>\n",
       "      <td>CA</td>\n",
       "      <td>94545</td>\n",
       "      <td>ALAMEDA</td>\n",
       "      <td>5107826200</td>\n",
       "      <td>Acute Care Hospitals</td>\n",
       "      <td>Voluntary non-profit - Church</td>\n",
       "    </tr>\n",
       "    <tr>\n",
       "      <th>1</th>\n",
       "      <td>50006</td>\n",
       "      <td>2</td>\n",
       "      <td>2</td>\n",
       "      <td>2</td>\n",
       "      <td>2</td>\n",
       "      <td>3</td>\n",
       "      <td>2</td>\n",
       "      <td>3</td>\n",
       "      <td>2</td>\n",
       "      <td>2</td>\n",
       "      <td>...</td>\n",
       "      <td>2</td>\n",
       "      <td>ST JOSEPH HOSPITAL</td>\n",
       "      <td>2700 DOLBEER ST</td>\n",
       "      <td>EUREKA</td>\n",
       "      <td>CA</td>\n",
       "      <td>95501</td>\n",
       "      <td>HUMBOLDT</td>\n",
       "      <td>7074458121</td>\n",
       "      <td>Acute Care Hospitals</td>\n",
       "      <td>Voluntary non-profit - Private</td>\n",
       "    </tr>\n",
       "    <tr>\n",
       "      <th>2</th>\n",
       "      <td>50007</td>\n",
       "      <td>3</td>\n",
       "      <td>4</td>\n",
       "      <td>3</td>\n",
       "      <td>3</td>\n",
       "      <td>4</td>\n",
       "      <td>3</td>\n",
       "      <td>3</td>\n",
       "      <td>4</td>\n",
       "      <td>5</td>\n",
       "      <td>...</td>\n",
       "      <td>4</td>\n",
       "      <td>MILLS-PENINSULA MEDICAL CENTER</td>\n",
       "      <td>1501 TROUSDALE DRIVE</td>\n",
       "      <td>BURLINGAME</td>\n",
       "      <td>CA</td>\n",
       "      <td>94010</td>\n",
       "      <td>SAN MATEO</td>\n",
       "      <td>6506965270</td>\n",
       "      <td>Acute Care Hospitals</td>\n",
       "      <td>Voluntary non-profit - Private</td>\n",
       "    </tr>\n",
       "    <tr>\n",
       "      <th>3</th>\n",
       "      <td>50008</td>\n",
       "      <td>2</td>\n",
       "      <td>2</td>\n",
       "      <td>3</td>\n",
       "      <td>2</td>\n",
       "      <td>3</td>\n",
       "      <td>2</td>\n",
       "      <td>2</td>\n",
       "      <td>2</td>\n",
       "      <td>3</td>\n",
       "      <td>...</td>\n",
       "      <td>2</td>\n",
       "      <td>CALIFORNIA PACIFIC MEDICAL CTR-DAVIES CAMPUS HOSP</td>\n",
       "      <td>601 DUBOCE AVE</td>\n",
       "      <td>SAN FRANCISCO</td>\n",
       "      <td>CA</td>\n",
       "      <td>94117</td>\n",
       "      <td>SAN FRANCISCO</td>\n",
       "      <td>4156006000</td>\n",
       "      <td>Acute Care Hospitals</td>\n",
       "      <td>Voluntary non-profit - Other</td>\n",
       "    </tr>\n",
       "    <tr>\n",
       "      <th>4</th>\n",
       "      <td>50009</td>\n",
       "      <td>2</td>\n",
       "      <td>3</td>\n",
       "      <td>3</td>\n",
       "      <td>3</td>\n",
       "      <td>3</td>\n",
       "      <td>3</td>\n",
       "      <td>3</td>\n",
       "      <td>2</td>\n",
       "      <td>3</td>\n",
       "      <td>...</td>\n",
       "      <td>3</td>\n",
       "      <td>QUEEN OF THE VALLEY MEDICAL CENTER</td>\n",
       "      <td>1000 TRANCAS ST</td>\n",
       "      <td>NAPA</td>\n",
       "      <td>CA</td>\n",
       "      <td>94558</td>\n",
       "      <td>NAPA</td>\n",
       "      <td>7072524411</td>\n",
       "      <td>Acute Care Hospitals</td>\n",
       "      <td>Voluntary non-profit - Church</td>\n",
       "    </tr>\n",
       "  </tbody>\n",
       "</table>\n",
       "<p>5 rows × 22 columns</p>\n",
       "</div>"
      ],
      "text/plain": [
       "   Provider ID  Cleanliness  Nurse_com  Doc_com  Staff_responsiveness  \\\n",
       "0        50002            2          2        2                     2   \n",
       "1        50006            2          2        2                     2   \n",
       "2        50007            3          4        3                     3   \n",
       "3        50008            2          2        3                     2   \n",
       "4        50009            2          3        3                     3   \n",
       "\n",
       "   Pain_management  Comm_medicine  Discharge_info  Care_transition  \\\n",
       "0                2              2               2                1   \n",
       "1                3              2               3                2   \n",
       "2                4              3               3                4   \n",
       "3                3              2               2                2   \n",
       "4                3              3               3                2   \n",
       "\n",
       "   Overall_Hos_Rating               ...                Summary_star  \\\n",
       "0                   2               ...                           2   \n",
       "1                   2               ...                           2   \n",
       "2                   5               ...                           4   \n",
       "3                   3               ...                           2   \n",
       "4                   3               ...                           3   \n",
       "\n",
       "                                       Hospital Name               Address  \\\n",
       "0                                   ST ROSE HOSPITAL    27200 CALAROGA AVE   \n",
       "1                                 ST JOSEPH HOSPITAL       2700 DOLBEER ST   \n",
       "2                     MILLS-PENINSULA MEDICAL CENTER  1501 TROUSDALE DRIVE   \n",
       "3  CALIFORNIA PACIFIC MEDICAL CTR-DAVIES CAMPUS HOSP        601 DUBOCE AVE   \n",
       "4                 QUEEN OF THE VALLEY MEDICAL CENTER       1000 TRANCAS ST   \n",
       "\n",
       "            City State ZIP Code    County Name  Phone Number  \\\n",
       "0        HAYWARD    CA    94545        ALAMEDA    5107826200   \n",
       "1         EUREKA    CA    95501       HUMBOLDT    7074458121   \n",
       "2     BURLINGAME    CA    94010      SAN MATEO    6506965270   \n",
       "3  SAN FRANCISCO    CA    94117  SAN FRANCISCO    4156006000   \n",
       "4           NAPA    CA    94558           NAPA    7072524411   \n",
       "\n",
       "          Hospital Type              Hospital Ownership  \n",
       "0  Acute Care Hospitals   Voluntary non-profit - Church  \n",
       "1  Acute Care Hospitals  Voluntary non-profit - Private  \n",
       "2  Acute Care Hospitals  Voluntary non-profit - Private  \n",
       "3  Acute Care Hospitals    Voluntary non-profit - Other  \n",
       "4  Acute Care Hospitals   Voluntary non-profit - Church  \n",
       "\n",
       "[5 rows x 22 columns]"
      ]
     },
     "execution_count": 28,
     "metadata": {},
     "output_type": "execute_result"
    }
   ],
   "source": [
    "hospital_ratings_merged.head()"
   ]
  },
  {
   "cell_type": "code",
   "execution_count": null,
   "metadata": {
    "collapsed": true
   },
   "outputs": [],
   "source": []
  }
 ],
 "metadata": {
  "kernelspec": {
   "display_name": "Python [conda env:PythonData]",
   "language": "python",
   "name": "conda-env-PythonData-py"
  },
  "language_info": {
   "codemirror_mode": {
    "name": "ipython",
    "version": 3
   },
   "file_extension": ".py",
   "mimetype": "text/x-python",
   "name": "python",
   "nbconvert_exporter": "python",
   "pygments_lexer": "ipython3",
   "version": "3.6.3"
  }
 },
 "nbformat": 4,
 "nbformat_minor": 2
}
