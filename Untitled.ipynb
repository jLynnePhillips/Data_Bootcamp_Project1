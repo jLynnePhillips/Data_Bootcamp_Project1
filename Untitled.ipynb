{
 "cells": [
  {
   "cell_type": "code",
   "execution_count": 1,
   "metadata": {
    "collapsed": true
   },
   "outputs": [],
   "source": [
    "import pandas as pd\n",
    "import csv"
   ]
  },
  {
   "cell_type": "code",
   "execution_count": 15,
   "metadata": {},
   "outputs": [],
   "source": [
    "ratings = pd.read_csv(\"Hospital Rating.csv\")"
   ]
  },
  {
   "cell_type": "code",
   "execution_count": 16,
   "metadata": {},
   "outputs": [
    {
     "data": {
      "text/plain": [
       "Index(['Unnamed: 0', 'Provider ID', 'H_CLEAN_STAR_RATING',\n",
       "       'H_COMP_1_STAR_RATING', 'H_COMP_2_STAR_RATING', 'H_COMP_3_STAR_RATING',\n",
       "       'H_COMP_4_STAR_RATING', 'H_COMP_5_STAR_RATING', 'H_COMP_6_STAR_RATING',\n",
       "       'H_COMP_7_STAR_RATING', 'H_HSP_RATING_STAR_RATING',\n",
       "       'H_QUIET_STAR_RATING', 'H_RECMND_STAR_RATING', 'H_STAR_RATING',\n",
       "       'Hospital Name', 'Address', 'City', 'State', 'County Name'],\n",
       "      dtype='object')"
      ]
     },
     "execution_count": 16,
     "metadata": {},
     "output_type": "execute_result"
    }
   ],
   "source": [
    "ratings.columns"
   ]
  },
  {
   "cell_type": "code",
   "execution_count": 25,
   "metadata": {},
   "outputs": [],
   "source": [
    "ratings = ratings.drop('Unnamed: 0', axis = 1) # deleted column Unnamed"
   ]
  },
  {
   "cell_type": "code",
   "execution_count": 18,
   "metadata": {
    "collapsed": true
   },
   "outputs": [],
   "source": [
    "hospitals = pd.read_csv(\"Hospital Type Ownership info.csv\")"
   ]
  },
  {
   "cell_type": "code",
   "execution_count": 21,
   "metadata": {},
   "outputs": [],
   "source": [
    "hospitals = hospitals.drop('Unnamed: 0', axis = 1)"
   ]
  },
  {
   "cell_type": "code",
   "execution_count": 22,
   "metadata": {},
   "outputs": [
    {
     "data": {
      "text/html": [
       "<div>\n",
       "<style>\n",
       "    .dataframe thead tr:only-child th {\n",
       "        text-align: right;\n",
       "    }\n",
       "\n",
       "    .dataframe thead th {\n",
       "        text-align: left;\n",
       "    }\n",
       "\n",
       "    .dataframe tbody tr th {\n",
       "        vertical-align: top;\n",
       "    }\n",
       "</style>\n",
       "<table border=\"1\" class=\"dataframe\">\n",
       "  <thead>\n",
       "    <tr style=\"text-align: right;\">\n",
       "      <th></th>\n",
       "      <th>Provider ID</th>\n",
       "      <th>Hospital Name</th>\n",
       "      <th>Address</th>\n",
       "      <th>City</th>\n",
       "      <th>State</th>\n",
       "      <th>ZIP Code</th>\n",
       "      <th>County Name</th>\n",
       "      <th>Phone Number</th>\n",
       "      <th>Hospital Type</th>\n",
       "      <th>Hospital Ownership</th>\n",
       "    </tr>\n",
       "  </thead>\n",
       "  <tbody>\n",
       "    <tr>\n",
       "      <th>0</th>\n",
       "      <td>50002</td>\n",
       "      <td>ST ROSE HOSPITAL</td>\n",
       "      <td>27200 CALAROGA AVE</td>\n",
       "      <td>HAYWARD</td>\n",
       "      <td>CA</td>\n",
       "      <td>94545</td>\n",
       "      <td>ALAMEDA</td>\n",
       "      <td>5107826200</td>\n",
       "      <td>Acute Care Hospitals</td>\n",
       "      <td>Voluntary non-profit - Church</td>\n",
       "    </tr>\n",
       "    <tr>\n",
       "      <th>1</th>\n",
       "      <td>50006</td>\n",
       "      <td>ST JOSEPH HOSPITAL</td>\n",
       "      <td>2700 DOLBEER ST</td>\n",
       "      <td>EUREKA</td>\n",
       "      <td>CA</td>\n",
       "      <td>95501</td>\n",
       "      <td>HUMBOLDT</td>\n",
       "      <td>7074458121</td>\n",
       "      <td>Acute Care Hospitals</td>\n",
       "      <td>Voluntary non-profit - Private</td>\n",
       "    </tr>\n",
       "    <tr>\n",
       "      <th>2</th>\n",
       "      <td>50007</td>\n",
       "      <td>MILLS-PENINSULA MEDICAL CENTER</td>\n",
       "      <td>1501 TROUSDALE DRIVE</td>\n",
       "      <td>BURLINGAME</td>\n",
       "      <td>CA</td>\n",
       "      <td>94010</td>\n",
       "      <td>SAN MATEO</td>\n",
       "      <td>6506965270</td>\n",
       "      <td>Acute Care Hospitals</td>\n",
       "      <td>Voluntary non-profit - Private</td>\n",
       "    </tr>\n",
       "    <tr>\n",
       "      <th>3</th>\n",
       "      <td>50008</td>\n",
       "      <td>CALIFORNIA PACIFIC MEDICAL CTR-DAVIES CAMPUS HOSP</td>\n",
       "      <td>601 DUBOCE AVE</td>\n",
       "      <td>SAN FRANCISCO</td>\n",
       "      <td>CA</td>\n",
       "      <td>94117</td>\n",
       "      <td>SAN FRANCISCO</td>\n",
       "      <td>4156006000</td>\n",
       "      <td>Acute Care Hospitals</td>\n",
       "      <td>Voluntary non-profit - Other</td>\n",
       "    </tr>\n",
       "    <tr>\n",
       "      <th>4</th>\n",
       "      <td>50009</td>\n",
       "      <td>QUEEN OF THE VALLEY MEDICAL CENTER</td>\n",
       "      <td>1000 TRANCAS ST</td>\n",
       "      <td>NAPA</td>\n",
       "      <td>CA</td>\n",
       "      <td>94558</td>\n",
       "      <td>NAPA</td>\n",
       "      <td>7072524411</td>\n",
       "      <td>Acute Care Hospitals</td>\n",
       "      <td>Voluntary non-profit - Church</td>\n",
       "    </tr>\n",
       "  </tbody>\n",
       "</table>\n",
       "</div>"
      ],
      "text/plain": [
       "   Provider ID                                      Hospital Name  \\\n",
       "0        50002                                   ST ROSE HOSPITAL   \n",
       "1        50006                                 ST JOSEPH HOSPITAL   \n",
       "2        50007                     MILLS-PENINSULA MEDICAL CENTER   \n",
       "3        50008  CALIFORNIA PACIFIC MEDICAL CTR-DAVIES CAMPUS HOSP   \n",
       "4        50009                 QUEEN OF THE VALLEY MEDICAL CENTER   \n",
       "\n",
       "                Address           City State  ZIP Code    County Name  \\\n",
       "0    27200 CALAROGA AVE        HAYWARD    CA     94545        ALAMEDA   \n",
       "1       2700 DOLBEER ST         EUREKA    CA     95501       HUMBOLDT   \n",
       "2  1501 TROUSDALE DRIVE     BURLINGAME    CA     94010      SAN MATEO   \n",
       "3        601 DUBOCE AVE  SAN FRANCISCO    CA     94117  SAN FRANCISCO   \n",
       "4       1000 TRANCAS ST           NAPA    CA     94558           NAPA   \n",
       "\n",
       "   Phone Number         Hospital Type              Hospital Ownership  \n",
       "0    5107826200  Acute Care Hospitals   Voluntary non-profit - Church  \n",
       "1    7074458121  Acute Care Hospitals  Voluntary non-profit - Private  \n",
       "2    6506965270  Acute Care Hospitals  Voluntary non-profit - Private  \n",
       "3    4156006000  Acute Care Hospitals    Voluntary non-profit - Other  \n",
       "4    7072524411  Acute Care Hospitals   Voluntary non-profit - Church  "
      ]
     },
     "execution_count": 22,
     "metadata": {},
     "output_type": "execute_result"
    }
   ],
   "source": [
    "hospitals.head()"
   ]
  },
  {
   "cell_type": "code",
   "execution_count": 23,
   "metadata": {},
   "outputs": [
    {
     "data": {
      "text/plain": [
       "Index(['Provider ID', 'Hospital Name', 'Address', 'City', 'State', 'ZIP Code',\n",
       "       'County Name', 'Phone Number', 'Hospital Type', 'Hospital Ownership'],\n",
       "      dtype='object')"
      ]
     },
     "execution_count": 23,
     "metadata": {},
     "output_type": "execute_result"
    }
   ],
   "source": [
    "hospitals.columns"
   ]
  },
  {
   "cell_type": "code",
   "execution_count": 26,
   "metadata": {},
   "outputs": [
    {
     "data": {
      "text/plain": [
       "Index(['Provider ID', 'H_CLEAN_STAR_RATING', 'H_COMP_1_STAR_RATING',\n",
       "       'H_COMP_2_STAR_RATING', 'H_COMP_3_STAR_RATING', 'H_COMP_4_STAR_RATING',\n",
       "       'H_COMP_5_STAR_RATING', 'H_COMP_6_STAR_RATING', 'H_COMP_7_STAR_RATING',\n",
       "       'H_HSP_RATING_STAR_RATING', 'H_QUIET_STAR_RATING',\n",
       "       'H_RECMND_STAR_RATING', 'H_STAR_RATING', 'Hospital Name', 'Address',\n",
       "       'City', 'State', 'County Name'],\n",
       "      dtype='object')"
      ]
     },
     "execution_count": 26,
     "metadata": {},
     "output_type": "execute_result"
    }
   ],
   "source": [
    "ratings.columns"
   ]
  },
  {
   "cell_type": "markdown",
   "metadata": {},
   "source": [
    "### Merge data sets Cleaned up Hospital General Information and HCAPS"
   ]
  },
  {
   "cell_type": "markdown",
   "metadata": {},
   "source": [
    "* Left join on data frames \"ratings\" and \"hospitals\"\n",
    "* ratings = contains hospital ratings data\n",
    "* hospitals - contains hospital type and ownership \n",
    "* common columns = 'Provider ID', 'Hospital Name','Address','City','State', 'County Name'\n"
   ]
  },
  {
   "cell_type": "code",
   "execution_count": 27,
   "metadata": {
    "collapsed": true
   },
   "outputs": [],
   "source": [
    "hospital_ratings_merged = pd.merge(ratings, hospitals, how='left', left_on=None, right_on=None,\n",
    "                                   on=['Provider ID', 'Hospital Name','Address','City','State', 'County Name'], \n",
    "                                   left_index=True,  suffixes=('_x', '_y'), copy=True)"
   ]
  },
  {
   "cell_type": "code",
   "execution_count": 29,
   "metadata": {},
   "outputs": [
    {
     "data": {
      "text/plain": [
       "342"
      ]
     },
     "execution_count": 29,
     "metadata": {},
     "output_type": "execute_result"
    }
   ],
   "source": [
    "len(hospital_ratings_merged)"
   ]
  },
  {
   "cell_type": "code",
   "execution_count": 30,
   "metadata": {},
   "outputs": [
    {
     "data": {
      "text/plain": [
       "342"
      ]
     },
     "execution_count": 30,
     "metadata": {},
     "output_type": "execute_result"
    }
   ],
   "source": [
    "len(ratings)"
   ]
  },
  {
   "cell_type": "code",
   "execution_count": 32,
   "metadata": {
    "collapsed": true
   },
   "outputs": [],
   "source": [
    "hospital_ratings_merged.to_csv(\"Hospital Ratings Merged.csv\")"
   ]
  },
  {
   "cell_type": "code",
   "execution_count": null,
   "metadata": {
    "collapsed": true
   },
   "outputs": [],
   "source": []
  }
 ],
 "metadata": {
  "kernelspec": {
   "display_name": "Python [conda env:PythonData]",
   "language": "python",
   "name": "conda-env-PythonData-py"
  },
  "language_info": {
   "codemirror_mode": {
    "name": "ipython",
    "version": 3
   },
   "file_extension": ".py",
   "mimetype": "text/x-python",
   "name": "python",
   "nbconvert_exporter": "python",
   "pygments_lexer": "ipython3",
   "version": "3.6.3"
  }
 },
 "nbformat": 4,
 "nbformat_minor": 2
}
