{
 "cells": [
  {
   "cell_type": "code",
   "execution_count": 40,
   "metadata": {
    "collapsed": true
   },
   "outputs": [],
   "source": [
    "# Dependencies\n",
    "import matplotlib.pyplot as plt\n",
    "import pandas as pd\n",
    "import numpy as np\n",
    "import csv"
   ]
  },
  {
   "cell_type": "code",
   "execution_count": 41,
   "metadata": {
    "collapsed": true
   },
   "outputs": [],
   "source": [
    "# load clean merged Hospital csv\n",
    "Hospital_merged_pd = pd.read_csv(\"./Cleaned_Data/Hospital_Merged_CleanNoIndex.csv\")"
   ]
  },
  {
   "cell_type": "code",
   "execution_count": 42,
   "metadata": {},
   "outputs": [
    {
     "data": {
      "text/html": [
       "<div>\n",
       "<style>\n",
       "    .dataframe thead tr:only-child th {\n",
       "        text-align: right;\n",
       "    }\n",
       "\n",
       "    .dataframe thead th {\n",
       "        text-align: left;\n",
       "    }\n",
       "\n",
       "    .dataframe tbody tr th {\n",
       "        vertical-align: top;\n",
       "    }\n",
       "</style>\n",
       "<table border=\"1\" class=\"dataframe\">\n",
       "  <thead>\n",
       "    <tr style=\"text-align: right;\">\n",
       "      <th></th>\n",
       "      <th>Provider ID</th>\n",
       "      <th>Cleanliness</th>\n",
       "      <th>Nurse_com</th>\n",
       "      <th>Doc_com</th>\n",
       "      <th>Staff_responsiveness</th>\n",
       "      <th>Pain_management</th>\n",
       "      <th>Comm_medicine</th>\n",
       "      <th>Discharge_info</th>\n",
       "      <th>Care_transition</th>\n",
       "      <th>Overall_Hos_Rating</th>\n",
       "      <th>...</th>\n",
       "      <th>Summary_star</th>\n",
       "      <th>Hospital Name</th>\n",
       "      <th>Address</th>\n",
       "      <th>City</th>\n",
       "      <th>State</th>\n",
       "      <th>County Name</th>\n",
       "      <th>ZIP Code</th>\n",
       "      <th>Phone Number</th>\n",
       "      <th>Hospital Type</th>\n",
       "      <th>Hospital Ownership</th>\n",
       "    </tr>\n",
       "  </thead>\n",
       "  <tbody>\n",
       "    <tr>\n",
       "      <th>0</th>\n",
       "      <td>50002</td>\n",
       "      <td>2</td>\n",
       "      <td>2</td>\n",
       "      <td>2</td>\n",
       "      <td>2</td>\n",
       "      <td>2</td>\n",
       "      <td>2</td>\n",
       "      <td>2</td>\n",
       "      <td>1</td>\n",
       "      <td>2</td>\n",
       "      <td>...</td>\n",
       "      <td>2</td>\n",
       "      <td>ST ROSE HOSPITAL</td>\n",
       "      <td>27200 CALAROGA AVE</td>\n",
       "      <td>HAYWARD</td>\n",
       "      <td>CA</td>\n",
       "      <td>ALAMEDA</td>\n",
       "      <td>94545</td>\n",
       "      <td>5107826200</td>\n",
       "      <td>Acute Care Hospitals</td>\n",
       "      <td>Voluntary non-profit - Church</td>\n",
       "    </tr>\n",
       "    <tr>\n",
       "      <th>1</th>\n",
       "      <td>50006</td>\n",
       "      <td>2</td>\n",
       "      <td>2</td>\n",
       "      <td>2</td>\n",
       "      <td>2</td>\n",
       "      <td>3</td>\n",
       "      <td>2</td>\n",
       "      <td>3</td>\n",
       "      <td>2</td>\n",
       "      <td>2</td>\n",
       "      <td>...</td>\n",
       "      <td>2</td>\n",
       "      <td>ST JOSEPH HOSPITAL</td>\n",
       "      <td>2700 DOLBEER ST</td>\n",
       "      <td>EUREKA</td>\n",
       "      <td>CA</td>\n",
       "      <td>HUMBOLDT</td>\n",
       "      <td>95501</td>\n",
       "      <td>7074458121</td>\n",
       "      <td>Acute Care Hospitals</td>\n",
       "      <td>Voluntary non-profit - Private</td>\n",
       "    </tr>\n",
       "    <tr>\n",
       "      <th>2</th>\n",
       "      <td>50007</td>\n",
       "      <td>3</td>\n",
       "      <td>4</td>\n",
       "      <td>3</td>\n",
       "      <td>3</td>\n",
       "      <td>4</td>\n",
       "      <td>3</td>\n",
       "      <td>3</td>\n",
       "      <td>4</td>\n",
       "      <td>5</td>\n",
       "      <td>...</td>\n",
       "      <td>4</td>\n",
       "      <td>MILLS-PENINSULA MEDICAL CENTER</td>\n",
       "      <td>1501 TROUSDALE DRIVE</td>\n",
       "      <td>BURLINGAME</td>\n",
       "      <td>CA</td>\n",
       "      <td>SAN MATEO</td>\n",
       "      <td>94010</td>\n",
       "      <td>6506965270</td>\n",
       "      <td>Acute Care Hospitals</td>\n",
       "      <td>Voluntary non-profit - Private</td>\n",
       "    </tr>\n",
       "    <tr>\n",
       "      <th>3</th>\n",
       "      <td>50008</td>\n",
       "      <td>2</td>\n",
       "      <td>2</td>\n",
       "      <td>3</td>\n",
       "      <td>2</td>\n",
       "      <td>3</td>\n",
       "      <td>2</td>\n",
       "      <td>2</td>\n",
       "      <td>2</td>\n",
       "      <td>3</td>\n",
       "      <td>...</td>\n",
       "      <td>2</td>\n",
       "      <td>CALIFORNIA PACIFIC MEDICAL CTR-DAVIES CAMPUS HOSP</td>\n",
       "      <td>601 DUBOCE AVE</td>\n",
       "      <td>SAN FRANCISCO</td>\n",
       "      <td>CA</td>\n",
       "      <td>SAN FRANCISCO</td>\n",
       "      <td>94117</td>\n",
       "      <td>4156006000</td>\n",
       "      <td>Acute Care Hospitals</td>\n",
       "      <td>Voluntary non-profit - Other</td>\n",
       "    </tr>\n",
       "    <tr>\n",
       "      <th>4</th>\n",
       "      <td>50009</td>\n",
       "      <td>2</td>\n",
       "      <td>3</td>\n",
       "      <td>3</td>\n",
       "      <td>3</td>\n",
       "      <td>3</td>\n",
       "      <td>3</td>\n",
       "      <td>3</td>\n",
       "      <td>2</td>\n",
       "      <td>3</td>\n",
       "      <td>...</td>\n",
       "      <td>3</td>\n",
       "      <td>QUEEN OF THE VALLEY MEDICAL CENTER</td>\n",
       "      <td>1000 TRANCAS ST</td>\n",
       "      <td>NAPA</td>\n",
       "      <td>CA</td>\n",
       "      <td>NAPA</td>\n",
       "      <td>94558</td>\n",
       "      <td>7072524411</td>\n",
       "      <td>Acute Care Hospitals</td>\n",
       "      <td>Voluntary non-profit - Church</td>\n",
       "    </tr>\n",
       "  </tbody>\n",
       "</table>\n",
       "<p>5 rows × 22 columns</p>\n",
       "</div>"
      ],
      "text/plain": [
       "   Provider ID Cleanliness Nurse_com Doc_com Staff_responsiveness  \\\n",
       "0        50002           2         2       2                    2   \n",
       "1        50006           2         2       2                    2   \n",
       "2        50007           3         4       3                    3   \n",
       "3        50008           2         2       3                    2   \n",
       "4        50009           2         3       3                    3   \n",
       "\n",
       "  Pain_management Comm_medicine Discharge_info Care_transition  \\\n",
       "0               2             2              2               1   \n",
       "1               3             2              3               2   \n",
       "2               4             3              3               4   \n",
       "3               3             2              2               2   \n",
       "4               3             3              3               2   \n",
       "\n",
       "  Overall_Hos_Rating               ...               Summary_star  \\\n",
       "0                  2               ...                          2   \n",
       "1                  2               ...                          2   \n",
       "2                  5               ...                          4   \n",
       "3                  3               ...                          2   \n",
       "4                  3               ...                          3   \n",
       "\n",
       "                                       Hospital Name               Address  \\\n",
       "0                                   ST ROSE HOSPITAL    27200 CALAROGA AVE   \n",
       "1                                 ST JOSEPH HOSPITAL       2700 DOLBEER ST   \n",
       "2                     MILLS-PENINSULA MEDICAL CENTER  1501 TROUSDALE DRIVE   \n",
       "3  CALIFORNIA PACIFIC MEDICAL CTR-DAVIES CAMPUS HOSP        601 DUBOCE AVE   \n",
       "4                 QUEEN OF THE VALLEY MEDICAL CENTER       1000 TRANCAS ST   \n",
       "\n",
       "            City State    County Name ZIP Code Phone Number  \\\n",
       "0        HAYWARD    CA        ALAMEDA    94545   5107826200   \n",
       "1         EUREKA    CA       HUMBOLDT    95501   7074458121   \n",
       "2     BURLINGAME    CA      SAN MATEO    94010   6506965270   \n",
       "3  SAN FRANCISCO    CA  SAN FRANCISCO    94117   4156006000   \n",
       "4           NAPA    CA           NAPA    94558   7072524411   \n",
       "\n",
       "          Hospital Type              Hospital Ownership  \n",
       "0  Acute Care Hospitals   Voluntary non-profit - Church  \n",
       "1  Acute Care Hospitals  Voluntary non-profit - Private  \n",
       "2  Acute Care Hospitals  Voluntary non-profit - Private  \n",
       "3  Acute Care Hospitals    Voluntary non-profit - Other  \n",
       "4  Acute Care Hospitals   Voluntary non-profit - Church  \n",
       "\n",
       "[5 rows x 22 columns]"
      ]
     },
     "execution_count": 42,
     "metadata": {},
     "output_type": "execute_result"
    }
   ],
   "source": [
    "Hospital_merged_pd.head(5)"
   ]
  },
  {
   "cell_type": "code",
   "execution_count": 43,
   "metadata": {
    "collapsed": true
   },
   "outputs": [],
   "source": [
    "Hospital_merged_pd = Hospital_merged_pd[Hospital_merged_pd.Overall_Hos_Rating != \"Not Available\"]"
   ]
  },
  {
   "cell_type": "code",
   "execution_count": 44,
   "metadata": {},
   "outputs": [
    {
     "data": {
      "text/plain": [
       "Index(['Provider ID', 'Cleanliness', 'Nurse_com', 'Doc_com',\n",
       "       'Staff_responsiveness', 'Pain_management', 'Comm_medicine',\n",
       "       'Discharge_info', 'Care_transition', 'Overall_Hos_Rating', 'Quietness',\n",
       "       'Recomm_hos', 'Summary_star', 'Hospital Name', 'Address', 'City',\n",
       "       'State', 'County Name', 'ZIP Code', 'Phone Number', 'Hospital Type',\n",
       "       'Hospital Ownership'],\n",
       "      dtype='object')"
      ]
     },
     "execution_count": 44,
     "metadata": {},
     "output_type": "execute_result"
    }
   ],
   "source": [
    "Hospital_merged_pd.columns"
   ]
  },
  {
   "cell_type": "code",
   "execution_count": 59,
   "metadata": {
    "collapsed": true
   },
   "outputs": [],
   "source": [
    "# Change the data type for all the rating columns to float\n",
    "Hospital_merged_pd[\"Overall_Hos_Rating\"] = Hospital_merged_pd[\"Overall_Hos_Rating\"].astype(\"float\")\n",
    "Hospital_merged_pd[\"Cleanliness\"] = Hospital_merged_pd[\"Cleanliness\"].astype(\"float\")\n",
    "Hospital_merged_pd[\"Nurse_com\"] = Hospital_merged_pd[\"Nurse_com\"].astype(\"float\")\n",
    "Hospital_merged_pd[\"Doc_com\"] = Hospital_merged_pd[\"Doc_com\"].astype(\"float\")\n",
    "Hospital_merged_pd[\"Staff_responsiveness\"] = Hospital_merged_pd[\"Staff_responsiveness\"].astype(\"float\")\n",
    "Hospital_merged_pd[\"Pain_management\"] = Hospital_merged_pd[\"Pain_management\"].astype(\"float\")\n",
    "Hospital_merged_pd[\"Comm_medicine\"] = Hospital_merged_pd[\"Comm_medicine\"].astype(\"float\")\n",
    "Hospital_merged_pd[\"Discharge_info\"] = Hospital_merged_pd[\"Discharge_info\"].astype(\"float\")\n",
    "Hospital_merged_pd[\"Care_transition\"] = Hospital_merged_pd[\"Care_transition\"].astype(\"float\")\n",
    "Hospital_merged_pd[\"Summary_star\"] = Hospital_merged_pd[\"Summary_star\"].astype(\"float\")\n",
    "Hospital_merged_pd[\"Recomm_hos\"] = Hospital_merged_pd[\"Recomm_hos\"].astype(\"float\")\n",
    "Hospital_merged_pd[\"Discharge_info\"] = Hospital_merged_pd[\"Discharge_info\"].astype(\"float\")"
   ]
  },
  {
   "cell_type": "code",
   "execution_count": 46,
   "metadata": {},
   "outputs": [
    {
     "data": {
      "text/plain": [
       "Index(['Unnamed: 0', 'County', '# Premature Deaths', '# Child Deaths',\n",
       "       '# Infant Deaths', '# Limited Access', '% Limited Access',\n",
       "       '# Uninsured Adults', '# Uninsured Children', '% Uninsured Adults',\n",
       "       '% Uninsured Children', 'Household Income',\n",
       "       '# Not Proficient in English', '% Not Proficient in English',\n",
       "       'Population'],\n",
       "      dtype='object')"
      ]
     },
     "execution_count": 46,
     "metadata": {},
     "output_type": "execute_result"
    }
   ],
   "source": [
    "# read county income data\n",
    "county_income = pd.read_csv(\"./Cleaned_Data/county_income_df.csv\")\n",
    "county_income.columns\n"
   ]
  },
  {
   "cell_type": "code",
   "execution_count": 47,
   "metadata": {
    "collapsed": true
   },
   "outputs": [],
   "source": [
    "# rename column name \"County Name\" to \"County\"\n",
    "Hospital_merged_pd['County'] = Hospital_merged_pd['County Name']"
   ]
  },
  {
   "cell_type": "code",
   "execution_count": 48,
   "metadata": {
    "collapsed": true
   },
   "outputs": [],
   "source": [
    "# convert the County column in county_income column to upper case\n",
    "# because County in Hospital Merged data is in Upper case.\n",
    "county_income['County'] = county_income['County'].str.upper()"
   ]
  },
  {
   "cell_type": "code",
   "execution_count": 49,
   "metadata": {},
   "outputs": [
    {
     "data": {
      "text/plain": [
       "Index(['Provider ID', 'Cleanliness', 'Nurse_com', 'Doc_com',\n",
       "       'Staff_responsiveness', 'Pain_management', 'Comm_medicine',\n",
       "       'Discharge_info', 'Care_transition', 'Overall_Hos_Rating', 'Quietness',\n",
       "       'Recomm_hos', 'Summary_star', 'Hospital Name', 'Address', 'City',\n",
       "       'State', 'County Name', 'ZIP Code', 'Phone Number', 'Hospital Type',\n",
       "       'Hospital Ownership', 'County', 'Unnamed: 0', '# Premature Deaths',\n",
       "       '# Child Deaths', '# Infant Deaths', '# Limited Access',\n",
       "       '% Limited Access', '# Uninsured Adults', '# Uninsured Children',\n",
       "       '% Uninsured Adults', '% Uninsured Children', 'Household Income',\n",
       "       '# Not Proficient in English', '% Not Proficient in English',\n",
       "       'Population'],\n",
       "      dtype='object')"
      ]
     },
     "execution_count": 49,
     "metadata": {},
     "output_type": "execute_result"
    }
   ],
   "source": [
    "# merge Hospital data and county income data on County\n",
    "Final_merge_pd = pd.merge(Hospital_merged_pd,county_income,on='County',how='left')\n",
    "Final_merge_pd.to_csv(\"Final_Merged_Data_Set.csv\", index = False)\n",
    "\n",
    "Final_merge_pd.columns"
   ]
  },
  {
   "cell_type": "code",
   "execution_count": 50,
   "metadata": {},
   "outputs": [
    {
     "data": {
      "image/png": "[encoded data removed]",
      "text/plain": [
       "<matplotlib.figure.Figure at 0x119e30400>"
      ]
     },
     "metadata": {},
     "output_type": "display_data"
    }
   ],
   "source": [
    "county_pd = Final_merge_pd[Final_merge_pd['County']== 'ALAMEDA']\n",
    "\n",
    "plt.scatter(county_pd['Provider ID'], county_pd['Overall_Hos_Rating'])\n",
    "plt.show()"
   ]
  },
  {
   "cell_type": "code",
   "execution_count": 51,
   "metadata": {},
   "outputs": [
    {
     "data": {
      "image/png": "[encoded data removed]",
      "text/plain": [
       "<matplotlib.figure.Figure at 0x10c42d1d0>"
      ]
     },
     "metadata": {},
     "output_type": "display_data"
    }
   ],
   "source": [
    "# Scatter Plot of Household Income vs Overall Hospital Rating\n",
    "Final_merge_pd.plot.scatter('Overall_Hos_Rating','Household Income',alpha=.2)\n",
    "plt.savefig(\"Ratings_Income_ScatterPlot.png\")\n",
    "plt.show()"
   ]
  },
  {
   "cell_type": "code",
   "execution_count": 57,
   "metadata": {},
   "outputs": [
    {
     "data": {
      "image/png": "[encoded data removed]",
      "text/plain": [
       "<matplotlib.figure.Figure at 0x10b1d6898>"
      ]
     },
     "metadata": {},
     "output_type": "display_data"
    }
   ],
   "source": [
    "# Scatter Plot of Household Income vs Overall Hospital Rating\n",
    "Final_merge_pd.plot.scatter('Summary_star','Household Income',alpha=.2)\n",
    "#plt.savefig(\"SummaryRatings_Income_ScatterPlot.png\")\n",
    "plt.show()"
   ]
  },
  {
   "cell_type": "code",
   "execution_count": 52,
   "metadata": {},
   "outputs": [
    {
     "data": {
      "image/png": "[encoded data removed]",
      "text/plain": [
       "<matplotlib.figure.Figure at 0x119e30748>"
      ]
     },
     "metadata": {},
     "output_type": "display_data"
    }
   ],
   "source": [
    "# Scatter Plot of Population vs Overall Hospital Rating\n",
    "Final_merge_pd.plot.scatter('Overall_Hos_Rating', 'Population',alpha=.2)\n",
    "plt.savefig(\"Rating_Population_ScatterPlot.png\")\n",
    "plt.show()"
   ]
  },
  {
   "cell_type": "code",
   "execution_count": 53,
   "metadata": {},
   "outputs": [
    {
     "data": {
      "image/png": "[encoded data removed]",
      "text/plain": [
       "<matplotlib.figure.Figure at 0x11a0cf3c8>"
      ]
     },
     "metadata": {},
     "output_type": "display_data"
    }
   ],
   "source": [
    "# Scatter Plot of Percent English Speakers vs Overall Hospital Rating\n",
    "Final_merge_pd.plot.scatter('Overall_Hos_Rating','Summary_star',alpha=.2)\n",
    "#plt.savefig(\"Ratings_ScatterPlot.png\")\n",
    "plt.show()"
   ]
  },
  {
   "cell_type": "code",
   "execution_count": 54,
   "metadata": {},
   "outputs": [
    {
     "data": {
      "text/plain": [
       "798.0"
      ]
     },
     "execution_count": 54,
     "metadata": {},
     "output_type": "execute_result"
    }
   ],
   "source": [
    "Final_merge_pd['Summary_star'].sum()"
   ]
  },
  {
   "cell_type": "code",
   "execution_count": 55,
   "metadata": {
    "collapsed": true
   },
   "outputs": [],
   "source": [
    "# group by County\n",
    "County_ratings = Hospital_merged_pd.groupby(\"County Name\")\n",
    "meanRatings_County = pd.DataFrame(round(County_ratings[\"Overall_Hos_Rating\"].mean(), 2))\n",
    "meanRatings_County.to_csv(\"Mean_Overall_Ratings_perCounty.csv\")\n"
   ]
  },
  {
   "cell_type": "code",
   "execution_count": 56,
   "metadata": {
    "collapsed": true
   },
   "outputs": [],
   "source": [
    "mean_ratings_county = pd.read_csv(\"Mean_Overall_Ratings_perCounty.csv\")"
   ]
  },
  {
   "cell_type": "code",
   "execution_count": null,
   "metadata": {
    "collapsed": true
   },
   "outputs": [],
   "source": [
    "    "
   ]
  },
  {
   "cell_type": "code",
   "execution_count": null,
   "metadata": {
    "collapsed": true,
    "scrolled": true
   },
   "outputs": [],
   "source": []
  },
  {
   "cell_type": "code",
   "execution_count": null,
   "metadata": {
    "collapsed": true
   },
   "outputs": [],
   "source": []
  }
 ],
 "metadata": {
  "kernelspec": {
   "display_name": "Python [conda env:PythonData]",
   "language": "python",
   "name": "conda-env-PythonData-py"
  },
  "language_info": {
   "codemirror_mode": {
    "name": "ipython",
    "version": 3
   },
   "file_extension": ".py",
   "mimetype": "text/x-python",
   "name": "python",
   "nbconvert_exporter": "python",
   "pygments_lexer": "ipython3",
   "version": "3.6.3"
  }
 },
 "nbformat": 4,
 "nbformat_minor": 2
}
