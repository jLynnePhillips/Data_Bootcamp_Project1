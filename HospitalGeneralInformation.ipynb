{
 "cells": [
  {
   "cell_type": "code",
   "execution_count": 3,
   "metadata": {
    "collapsed": true
   },
   "outputs": [],
   "source": [
    "import pandas as pd "
   ]
  },
  {
   "cell_type": "code",
   "execution_count": 14,
   "metadata": {
    "collapsed": true
   },
   "outputs": [],
   "source": [
    "# df = pd.read_csv(\"Hospital General Information.csv\")\n",
    "\n",
    "Hospital_Gen_Info = pd.read_csv(\"Hospital General Information.csv\",encoding='latin-1')"
   ]
  },
  {
   "cell_type": "code",
   "execution_count": 15,
   "metadata": {},
   "outputs": [],
   "source": [
    "Hospital_Gen_Info = Hospital_Gen_Info[Hospital_Gen_Info[\"State\"] == \"CA\"]\n"
   ]
  },
  {
   "cell_type": "code",
   "execution_count": 22,
   "metadata": {},
   "outputs": [],
   "source": [
    "Hospital_Gen_Info_Column_List = list(Hospital_Gen_Info)"
   ]
  },
  {
   "cell_type": "code",
   "execution_count": 23,
   "metadata": {},
   "outputs": [
    {
     "data": {
      "text/plain": [
       "['Provider ID',\n",
       " 'Hospital Name',\n",
       " 'Address',\n",
       " 'City',\n",
       " 'State',\n",
       " 'ZIP Code',\n",
       " 'County Name',\n",
       " 'Phone Number',\n",
       " 'Hospital Type',\n",
       " 'Hospital Ownership',\n",
       " 'Emergency Services',\n",
       " 'Meets criteria for meaningful use of EHRs',\n",
       " 'Hospital overall rating',\n",
       " 'Hospital overall rating footnote',\n",
       " 'Mortality national comparison',\n",
       " 'Mortality national comparison footnote',\n",
       " 'Safety of care national comparison',\n",
       " 'Safety of care national comparison footnote',\n",
       " 'Readmission national comparison',\n",
       " 'Readmission national comparison footnote',\n",
       " 'Patient experience national comparison',\n",
       " 'Patient experience national comparison footnote',\n",
       " 'Effectiveness of care national comparison',\n",
       " 'Effectiveness of care national comparison footnote',\n",
       " 'Timeliness of care national comparison',\n",
       " 'Timeliness of care national comparison footnote',\n",
       " 'Efficient use of medical imaging national comparison',\n",
       " 'Efficient use of medical imaging national comparison footnote']"
      ]
     },
     "execution_count": 23,
     "metadata": {},
     "output_type": "execute_result"
    }
   ],
   "source": [
    "Hospital_Gen_Info_Column_List"
   ]
  },
  {
   "cell_type": "code",
   "execution_count": 17,
   "metadata": {},
   "outputs": [],
   "source": [
    "Hospital_Info_Type_df = Hospital_Gen_Info[['Provider ID','Hospital Name','Address','City','State','ZIP Code',\n",
    "                                           'County Name','Phone Number','Hospital Type','Hospital Ownership',]].copy()"
   ]
  },
  {
   "cell_type": "code",
   "execution_count": 18,
   "metadata": {},
   "outputs": [
    {
     "data": {
      "text/html": [
       "<div>\n",
       "<style>\n",
       "    .dataframe thead tr:only-child th {\n",
       "        text-align: right;\n",
       "    }\n",
       "\n",
       "    .dataframe thead th {\n",
       "        text-align: left;\n",
       "    }\n",
       "\n",
       "    .dataframe tbody tr th {\n",
       "        vertical-align: top;\n",
       "    }\n",
       "</style>\n",
       "<table border=\"1\" class=\"dataframe\">\n",
       "  <thead>\n",
       "    <tr style=\"text-align: right;\">\n",
       "      <th></th>\n",
       "      <th>Provider ID</th>\n",
       "      <th>Hospital Name</th>\n",
       "      <th>Address</th>\n",
       "      <th>City</th>\n",
       "      <th>State</th>\n",
       "      <th>ZIP Code</th>\n",
       "      <th>County Name</th>\n",
       "      <th>Phone Number</th>\n",
       "      <th>Hospital Type</th>\n",
       "      <th>Hospital Ownership</th>\n",
       "    </tr>\n",
       "  </thead>\n",
       "  <tbody>\n",
       "    <tr>\n",
       "      <th>260</th>\n",
       "      <td>50002</td>\n",
       "      <td>ST ROSE HOSPITAL</td>\n",
       "      <td>27200 CALAROGA AVE</td>\n",
       "      <td>HAYWARD</td>\n",
       "      <td>CA</td>\n",
       "      <td>94545</td>\n",
       "      <td>ALAMEDA</td>\n",
       "      <td>5107826200</td>\n",
       "      <td>Acute Care Hospitals</td>\n",
       "      <td>Voluntary non-profit - Church</td>\n",
       "    </tr>\n",
       "    <tr>\n",
       "      <th>261</th>\n",
       "      <td>50006</td>\n",
       "      <td>ST JOSEPH HOSPITAL</td>\n",
       "      <td>2700 DOLBEER ST</td>\n",
       "      <td>EUREKA</td>\n",
       "      <td>CA</td>\n",
       "      <td>95501</td>\n",
       "      <td>HUMBOLDT</td>\n",
       "      <td>7074458121</td>\n",
       "      <td>Acute Care Hospitals</td>\n",
       "      <td>Voluntary non-profit - Private</td>\n",
       "    </tr>\n",
       "    <tr>\n",
       "      <th>262</th>\n",
       "      <td>50007</td>\n",
       "      <td>MILLS-PENINSULA MEDICAL CENTER</td>\n",
       "      <td>1501 TROUSDALE DRIVE</td>\n",
       "      <td>BURLINGAME</td>\n",
       "      <td>CA</td>\n",
       "      <td>94010</td>\n",
       "      <td>SAN MATEO</td>\n",
       "      <td>6506965270</td>\n",
       "      <td>Acute Care Hospitals</td>\n",
       "      <td>Voluntary non-profit - Private</td>\n",
       "    </tr>\n",
       "    <tr>\n",
       "      <th>263</th>\n",
       "      <td>50008</td>\n",
       "      <td>CALIFORNIA PACIFIC MEDICAL CTR-DAVIES CAMPUS HOSP</td>\n",
       "      <td>601 DUBOCE AVE</td>\n",
       "      <td>SAN FRANCISCO</td>\n",
       "      <td>CA</td>\n",
       "      <td>94117</td>\n",
       "      <td>SAN FRANCISCO</td>\n",
       "      <td>4156006000</td>\n",
       "      <td>Acute Care Hospitals</td>\n",
       "      <td>Voluntary non-profit - Other</td>\n",
       "    </tr>\n",
       "    <tr>\n",
       "      <th>264</th>\n",
       "      <td>50009</td>\n",
       "      <td>QUEEN OF THE VALLEY MEDICAL CENTER</td>\n",
       "      <td>1000 TRANCAS ST</td>\n",
       "      <td>NAPA</td>\n",
       "      <td>CA</td>\n",
       "      <td>94558</td>\n",
       "      <td>NAPA</td>\n",
       "      <td>7072524411</td>\n",
       "      <td>Acute Care Hospitals</td>\n",
       "      <td>Voluntary non-profit - Church</td>\n",
       "    </tr>\n",
       "  </tbody>\n",
       "</table>\n",
       "</div>"
      ],
      "text/plain": [
       "     Provider ID                                      Hospital Name  \\\n",
       "260        50002                                   ST ROSE HOSPITAL   \n",
       "261        50006                                 ST JOSEPH HOSPITAL   \n",
       "262        50007                     MILLS-PENINSULA MEDICAL CENTER   \n",
       "263        50008  CALIFORNIA PACIFIC MEDICAL CTR-DAVIES CAMPUS HOSP   \n",
       "264        50009                 QUEEN OF THE VALLEY MEDICAL CENTER   \n",
       "\n",
       "                  Address           City State  ZIP Code    County Name  \\\n",
       "260    27200 CALAROGA AVE        HAYWARD    CA     94545        ALAMEDA   \n",
       "261       2700 DOLBEER ST         EUREKA    CA     95501       HUMBOLDT   \n",
       "262  1501 TROUSDALE DRIVE     BURLINGAME    CA     94010      SAN MATEO   \n",
       "263        601 DUBOCE AVE  SAN FRANCISCO    CA     94117  SAN FRANCISCO   \n",
       "264       1000 TRANCAS ST           NAPA    CA     94558           NAPA   \n",
       "\n",
       "     Phone Number         Hospital Type              Hospital Ownership  \n",
       "260    5107826200  Acute Care Hospitals   Voluntary non-profit - Church  \n",
       "261    7074458121  Acute Care Hospitals  Voluntary non-profit - Private  \n",
       "262    6506965270  Acute Care Hospitals  Voluntary non-profit - Private  \n",
       "263    4156006000  Acute Care Hospitals    Voluntary non-profit - Other  \n",
       "264    7072524411  Acute Care Hospitals   Voluntary non-profit - Church  "
      ]
     },
     "execution_count": 18,
     "metadata": {},
     "output_type": "execute_result"
    }
   ],
   "source": [
    "Hospital_Info_Type_df.head()"
   ]
  },
  {
   "cell_type": "code",
   "execution_count": 20,
   "metadata": {},
   "outputs": [],
   "source": [
    "Hospital_Info_Type_df.to_csv(\"Hospital Type Ownership info.csv\")"
   ]
  },
  {
   "cell_type": "code",
   "execution_count": 24,
   "metadata": {},
   "outputs": [
    {
     "ename": "TypeError",
     "evalue": "a bytes-like object is required, not 'str'",
     "output_type": "error",
     "traceback": [
      "\u001b[0;31m---------------------------------------------------------------------------\u001b[0m",
      "\u001b[0;31mTypeError\u001b[0m                                 Traceback (most recent call last)",
      "\u001b[0;32m<ipython-input-24-a0b2536082e2>\u001b[0m in \u001b[0;36m<module>\u001b[0;34m()\u001b[0m\n\u001b[1;32m      3\u001b[0m \u001b[0;32mwith\u001b[0m \u001b[0mopen\u001b[0m\u001b[0;34m(\u001b[0m\u001b[0;34m\"output.csv\"\u001b[0m\u001b[0;34m,\u001b[0m\u001b[0;34m'wb'\u001b[0m\u001b[0;34m)\u001b[0m \u001b[0;32mas\u001b[0m \u001b[0mresultFile\u001b[0m\u001b[0;34m:\u001b[0m\u001b[0;34m\u001b[0m\u001b[0m\n\u001b[1;32m      4\u001b[0m     \u001b[0mwr\u001b[0m \u001b[0;34m=\u001b[0m \u001b[0mcsv\u001b[0m\u001b[0;34m.\u001b[0m\u001b[0mwriter\u001b[0m\u001b[0;34m(\u001b[0m\u001b[0mresultFile\u001b[0m\u001b[0;34m,\u001b[0m \u001b[0mdialect\u001b[0m\u001b[0;34m=\u001b[0m\u001b[0;34m'excel'\u001b[0m\u001b[0;34m)\u001b[0m\u001b[0;34m\u001b[0m\u001b[0m\n\u001b[0;32m----> 5\u001b[0;31m     \u001b[0mwr\u001b[0m\u001b[0;34m.\u001b[0m\u001b[0mwriterows\u001b[0m\u001b[0;34m(\u001b[0m\u001b[0mRESULTS\u001b[0m\u001b[0;34m)\u001b[0m\u001b[0;34m\u001b[0m\u001b[0m\n\u001b[0m",
      "\u001b[0;31mTypeError\u001b[0m: a bytes-like object is required, not 'str'"
     ]
    }
   ],
   "source": []
  },
  {
   "cell_type": "code",
   "execution_count": null,
   "metadata": {
    "collapsed": true
   },
   "outputs": [],
   "source": []
  }
 ],
 "metadata": {
  "kernelspec": {
   "display_name": "Python [conda env:PythonData]",
   "language": "python",
   "name": "conda-env-PythonData-py"
  },
  "language_info": {
   "codemirror_mode": {
    "name": "ipython",
    "version": 3
   },
   "file_extension": ".py",
   "mimetype": "text/x-python",
   "name": "python",
   "nbconvert_exporter": "python",
   "pygments_lexer": "ipython3",
   "version": "3.6.3"
  }
 },
 "nbformat": 4,
 "nbformat_minor": 2
}
